{
 "cells": [
  {
   "cell_type": "markdown",
   "metadata": {},
   "source": [
    "The prime factors of 13195 are 5, 7, 13 and 29.\n",
    "\n",
    "What is the largest prime factor of the number 600851475143 ?"
   ]
  },
  {
   "cell_type": "code",
   "execution_count": 16,
   "metadata": {},
   "outputs": [
    {
     "data": {
      "text/plain": [
       "False"
      ]
     },
     "execution_count": 16,
     "metadata": {},
     "output_type": "execute_result"
    }
   ],
   "source": [
    "# What is a prime number?\n",
    "# a number only divisible by 1 and itself\n",
    "def isPrime(n):\n",
    "    # will always be an odd number\n",
    "    if n % 2 == 0:\n",
    "        return False\n",
    "\n",
    "    # checks if our odd num is divisible by anything\n",
    "    i = 3\n",
    "    while i < n:\n",
    "        if n % i == 0:\n",
    "            return False\n",
    "        i += 1\n",
    "    # if not, it's prime\n",
    "    return True\n",
    "\n",
    "isPrime(15)"
   ]
  },
  {
   "cell_type": "code",
   "execution_count": 17,
   "metadata": {},
   "outputs": [
    {
     "data": {
      "text/plain": [
       "[1, 3, 5, 7, 9, 11, 13]"
      ]
     },
     "execution_count": 17,
     "metadata": {},
     "output_type": "execute_result"
    }
   ],
   "source": [
    "# collect odd\n",
    "def getOdd(n):\n",
    "    odds = []\n",
    "    for i in range(n):\n",
    "        if i % 2 != 0:\n",
    "            odds.append(i)\n",
    "    return odds\n",
    "\n",
    "getOdd(15)"
   ]
  },
  {
   "cell_type": "code",
   "execution_count": 18,
   "metadata": {},
   "outputs": [
    {
     "data": {
      "text/plain": [
       "[1, 3, 5, 7, 11, 13]"
      ]
     },
     "execution_count": 18,
     "metadata": {},
     "output_type": "execute_result"
    }
   ],
   "source": [
    "def getPrime(n):\n",
    "    odds = getOdd(n)\n",
    "    primes = []\n",
    "    for i in odds:\n",
    "        if isPrime(i):\n",
    "            primes.append(i)\n",
    "    return primes\n",
    "\n",
    "getPrime(15)"
   ]
  },
  {
   "cell_type": "markdown",
   "metadata": {},
   "source": [
    "We need to find the prime factors of a number, not the prime numbers in a number.\n",
    "\n",
    "What is a prime factor?\n",
    "    Factors: numbers that divide evenly into a number. For example 60's factors are 1, 2, 3, 4, 5, 6, 10, 12, 15, 20, 30, and 60.\n",
    "\n",
    "    So a prime factor is a list of the smallest factors that make up a number (not including 1). \n",
    "    For 60 this would be 2, 3, and 5.\n",
    "\n",
    "    This is because 60 / 2 = 30, 30 / 2 = 15, 15 / 3 = 5, and 5 can't be divided evenly so \n",
    "    is added to our list. Note that elements don't repeat, so our list isn't [2, 2, 3, 5] \n",
    "    but [2, 3, 5]"
   ]
  },
  {
   "cell_type": "code",
   "execution_count": 23,
   "metadata": {},
   "outputs": [
    {
     "data": {
      "text/plain": [
       "[71, 839, 1471, 6857]"
      ]
     },
     "execution_count": 23,
     "metadata": {},
     "output_type": "execute_result"
    }
   ],
   "source": [
    "def getPrimeFactors(n):\n",
    "    answer = []\n",
    "    i = 2\n",
    "    while i <= n:\n",
    "        if n % i == 0:\n",
    "            answer.append(i)\n",
    "            n = n // i\n",
    "        i += 1\n",
    "    return answer\n",
    "getPrimeFactors(600851475143)"
   ]
  }
 ],
 "metadata": {
  "interpreter": {
   "hash": "aee8b7b246df8f9039afb4144a1f6fd8d2ca17a180786b69acc140d282b71a49"
  },
  "kernelspec": {
   "display_name": "Python 3.9.1 64-bit",
   "name": "python3"
  },
  "language_info": {
   "codemirror_mode": {
    "name": "ipython",
    "version": 3
   },
   "file_extension": ".py",
   "mimetype": "text/x-python",
   "name": "python",
   "nbconvert_exporter": "python",
   "pygments_lexer": "ipython3",
   "version": "3.9.1"
  },
  "orig_nbformat": 4
 },
 "nbformat": 4,
 "nbformat_minor": 2
}
