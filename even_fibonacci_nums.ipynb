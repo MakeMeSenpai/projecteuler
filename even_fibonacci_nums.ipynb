{
 "cells": [
  {
   "cell_type": "markdown",
   "source": [
    "By considering the terms in the Fibonacci sequence whose values do not exceed four million, find the sum of the even-valued terms."
   ],
   "metadata": {}
  },
  {
   "cell_type": "code",
   "execution_count": 5,
   "source": [
    "# doesn't exceed 4 million\n",
    "CAP = 4000000\n",
    "\n",
    "# our recursive fibonacci sequence\n",
    "def fibo(even_sum):\n",
    "    # if sums exceed cap\n",
    "    if even_sum <= CAP:\n",
    "        # return answer\n",
    "        return even_sum\n",
    "\n",
    "    #els\n",
    "    return fibo(even_sum)\n"
   ],
   "outputs": [],
   "metadata": {}
  },
  {
   "cell_type": "code",
   "execution_count": null,
   "source": [],
   "outputs": [],
   "metadata": {}
  }
 ],
 "metadata": {
  "orig_nbformat": 4,
  "language_info": {
   "name": "python",
   "version": "3.9.1",
   "mimetype": "text/x-python",
   "codemirror_mode": {
    "name": "ipython",
    "version": 3
   },
   "pygments_lexer": "ipython3",
   "nbconvert_exporter": "python",
   "file_extension": ".py"
  },
  "kernelspec": {
   "name": "python3",
   "display_name": "Python 3.9.1 64-bit"
  },
  "interpreter": {
   "hash": "aee8b7b246df8f9039afb4144a1f6fd8d2ca17a180786b69acc140d282b71a49"
  }
 },
 "nbformat": 4,
 "nbformat_minor": 2
}