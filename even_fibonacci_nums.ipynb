{
 "cells": [
  {
   "cell_type": "code",
   "execution_count": 13,
   "metadata": {},
   "outputs": [
    {
     "data": {
      "text/plain": [
       "'the answer is 4613732 ;and your nums are [1, 2, 3, 5, 8, 13, 21, 34, 55, 89, 144, 233, 377, 610, 987, 1597, 2584, 4181, 6765, 10946, 17711, 28657, 46368, 75025, 121393, 196418, 317811, 514229, 832040, 1346269, 2178309, 3524578]'"
      ]
     },
     "execution_count": 13,
     "metadata": {},
     "output_type": "execute_result"
    }
   ],
   "source": [
    "# doesn't exceed 4 million\n",
    "CAP = 4000000\n",
    "\n",
    "# our recursive fibonacci sequence\n",
    "def even_sum_in_fibo(nums, even_sum=0, i=0):\n",
    "    # begins our sequence\n",
    "    if nums[i] == 0:\n",
    "        nums[i] = 1\n",
    "        nums.append(2)\n",
    "        even_sum = 2\n",
    "        i = 1\n",
    "\n",
    "    # continues our sequence\n",
    "    i += 1\n",
    "    current_sum = nums[i-2] + nums[i-1]\n",
    "\n",
    "    # ensures we don't go over cap\n",
    "    if current_sum > CAP:\n",
    "        return \"the answer is \" + str(even_sum) + \" ;and your nums are \" + str(nums)\n",
    "    nums.append(current_sum)\n",
    "\n",
    "    # if an even number, adds to sum\n",
    "    if nums[i] % 2 == 0:\n",
    "        even_sum += nums[i]\n",
    "\n",
    "    # recursive call\n",
    "    return even_sum_in_fibo(nums, even_sum, i)\n",
    "\n",
    "even_sum_in_fibo([0])\n"
   ]
  }
 ],
 "metadata": {
  "interpreter": {
   "hash": "aee8b7b246df8f9039afb4144a1f6fd8d2ca17a180786b69acc140d282b71a49"
  },
  "kernelspec": {
   "display_name": "Python 3.9.1 64-bit",
   "name": "python3"
  },
  "language_info": {
   "codemirror_mode": {
    "name": "ipython",
    "version": 3
   },
   "file_extension": ".py",
   "mimetype": "text/x-python",
   "name": "python",
   "nbconvert_exporter": "python",
   "pygments_lexer": "ipython3",
   "version": "3.9.1"
  },
  "orig_nbformat": 4
 },
 "nbformat": 4,
 "nbformat_minor": 2
}
