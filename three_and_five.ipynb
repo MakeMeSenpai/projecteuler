{
 "cells": [
  {
   "cell_type": "code",
   "execution_count": 41,
   "metadata": {},
   "outputs": [
    {
     "data": {
      "text/plain": [
       "0"
      ]
     },
     "execution_count": 41,
     "metadata": {},
     "output_type": "execute_result"
    }
   ],
   "source": [
    "# REMAINDER TEST\n",
    "\n",
    "x = lambda num, find: num % find\n",
    "x(0, 3)"
   ]
  },
  {
   "cell_type": "code",
   "execution_count": 65,
   "metadata": {},
   "outputs": [],
   "source": [
    "# OUR FUNCTION\n",
    "\n",
    "\"\"\"Given a number, find multiples of 3 and 5, then return it's sum\"\"\"\n",
    "def three_and_five(num):\n",
    "    # creates out decrimentor\n",
    "    n = num\n",
    "    multiples = []\n",
    "    \n",
    "    for n in range(num):\n",
    "        # if n divided by 5 or 3 has no remainder\n",
    "        if n % 5 == 0 or n % 3 == 0:\n",
    "            # append to our list of multiples\n",
    "            multiples.append(n)\n",
    "        else:\n",
    "            #else decriment by 1\n",
    "            n -= 1\n",
    "        \n",
    "    # return the sum of our list\n",
    "    return sum(multiples)"
   ]
  },
  {
   "cell_type": "code",
   "execution_count": 66,
   "metadata": {},
   "outputs": [
    {
     "data": {
      "text/plain": [
       "233168"
      ]
     },
     "execution_count": 66,
     "metadata": {},
     "output_type": "execute_result"
    }
   ],
   "source": [
    "# OUR SOLUTION\n",
    "three_and_five(1000)"
   ]
  },
  {
   "cell_type": "code",
   "execution_count": 59,
   "metadata": {},
   "outputs": [
    {
     "name": "stdout",
     "output_type": "stream",
     "text": [
      "201 µs ± 7.28 µs per loop (mean ± std. dev. of 7 runs, 10000 loops each)\n"
     ]
    }
   ],
   "source": [
    "# TIME NOTATION\n",
    "\n",
    "%timeit three_and_five(1000)\n",
    "# All solutions should be under n=1000000000"
   ]
  }
 ],
 "metadata": {
  "kernelspec": {
   "display_name": "Python 3",
   "language": "python",
   "name": "python3"
  },
  "language_info": {
   "codemirror_mode": {
    "name": "ipython",
    "version": 3
   },
   "file_extension": ".py",
   "mimetype": "text/x-python",
   "name": "python",
   "nbconvert_exporter": "python",
   "pygments_lexer": "ipython3",
   "version": "3.7.6"
  }
 },
 "nbformat": 4,
 "nbformat_minor": 4
}
