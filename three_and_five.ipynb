{
 "cells": [
  {
   "cell_type": "code",
   "execution_count": 1,
   "source": [
    "# REMAINDER TEST\n",
    "\n",
    "x = lambda num, find: num % find\n",
    "x(0, 3)"
   ],
   "outputs": [
    {
     "output_type": "execute_result",
     "data": {
      "text/plain": [
       "0"
      ]
     },
     "metadata": {},
     "execution_count": 1
    }
   ],
   "metadata": {}
  },
  {
   "cell_type": "code",
   "execution_count": 2,
   "source": [
    "# OUR FUNCTION\n",
    "\n",
    "\"\"\"Given a number, find multiples of 3 and 5, then return it's sum\"\"\"\n",
    "def three_and_five(num):\n",
    "    # creates out decrimentor\n",
    "    n = num\n",
    "    multiples = []\n",
    "    \n",
    "    for n in range(num):\n",
    "        # if n divided by 5 or 3 has no remainder\n",
    "        if n % 5 == 0 or n % 3 == 0:\n",
    "            # append to our list of multiples\n",
    "            multiples.append(n)\n",
    "        else:\n",
    "            #else decriment by 1\n",
    "            n -= 1\n",
    "        \n",
    "    # return the sum of our list\n",
    "    return sum(multiples)"
   ],
   "outputs": [],
   "metadata": {}
  },
  {
   "cell_type": "code",
   "execution_count": 3,
   "source": [
    "# OUR SOLUTION\n",
    "three_and_five(1000)"
   ],
   "outputs": [
    {
     "output_type": "execute_result",
     "data": {
      "text/plain": [
       "233168"
      ]
     },
     "metadata": {},
     "execution_count": 3
    }
   ],
   "metadata": {}
  },
  {
   "cell_type": "code",
   "execution_count": 5,
   "source": [
    "# TIME NOTATION\n",
    "\n",
    "%timeit three_and_five(1000)\n",
    "# All solutions should be under n=1000000000"
   ],
   "outputs": [
    {
     "output_type": "stream",
     "name": "stdout",
     "text": [
      "186 µs ± 27.1 µs per loop (mean ± std. dev. of 7 runs, 1000 loops each)\n"
     ]
    }
   ],
   "metadata": {}
  }
 ],
 "metadata": {
  "kernelspec": {
   "name": "python3",
   "display_name": "Python 3.9.1 64-bit"
  },
  "language_info": {
   "codemirror_mode": {
    "name": "ipython",
    "version": 3
   },
   "file_extension": ".py",
   "mimetype": "text/x-python",
   "name": "python",
   "nbconvert_exporter": "python",
   "pygments_lexer": "ipython3",
   "version": "3.9.1"
  },
  "interpreter": {
   "hash": "aee8b7b246df8f9039afb4144a1f6fd8d2ca17a180786b69acc140d282b71a49"
  }
 },
 "nbformat": 4,
 "nbformat_minor": 4
}